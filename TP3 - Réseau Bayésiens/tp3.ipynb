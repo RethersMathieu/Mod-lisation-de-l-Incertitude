{
 "cells": [
  {
   "attachments": {},
   "cell_type": "markdown",
   "metadata": {},
   "source": [
    "# TP3-Réseaux bayésiens"
   ]
  },
  {
   "cell_type": "code",
   "execution_count": 11,
   "metadata": {},
   "outputs": [],
   "source": [
    "from pomegranate import *"
   ]
  },
  {
   "attachments": {},
   "cell_type": "markdown",
   "metadata": {},
   "source": [
    "## Prise en main"
   ]
  },
  {
   "cell_type": "code",
   "execution_count": 12,
   "metadata": {},
   "outputs": [],
   "source": [
    "G = BayesianNetwork('BotanicalProblem')\n",
    "malade = DiscreteDistribution({'Oui': 0.1, 'Non': 0.9})\n",
    "sec = DiscreteDistribution({'Oui': 0.1, 'Non': 0.9})\n",
    "perd_feuilles = ConditionalProbabilityTable(\n",
    "[\n",
    "    ['Non', 'Non', 'Non', .98],\n",
    "    ['Non', 'Non', 'Oui', .02],\n",
    "    ['Non', 'Oui', 'Non', .15],\n",
    "    ['Non', 'Oui', 'Oui', .85],\n",
    "    ['Oui', 'Non', 'Non', .1],\n",
    "    ['Oui', 'Non', 'Oui', .9],\n",
    "    ['Oui', 'Oui', 'Non', .05],\n",
    "    ['Oui', 'Oui', 'Oui', .95]\n",
    "], [malade, sec])\n"
   ]
  },
  {
   "cell_type": "code",
   "execution_count": 13,
   "metadata": {},
   "outputs": [],
   "source": [
    "s = State(malade, name='malade')\n",
    "d = State(sec, name='sec')\n",
    "l = State(perd_feuilles, name='perd_feuilles')\n",
    "G.add_states(s, d, l)\n",
    "G.add_edge(s, l)\n",
    "G.add_edge(d, l)\n",
    "G.bake()\n"
   ]
  },
  {
   "cell_type": "code",
   "execution_count": 14,
   "metadata": {},
   "outputs": [
    {
     "name": "stdout",
     "output_type": "stream",
     "text": [
      "BotanicalProblem:{\n",
      "    \"class\" : \"State\",\n",
      "    \"distribution\" : {\n",
      "        \"class\" : \"Distribution\",\n",
      "        \"dtype\" : \"str\",\n",
      "        \"name\" : \"DiscreteDistribution\",\n",
      "        \"parameters\" : [\n",
      "            {\n",
      "                \"Oui\" : 0.1,\n",
      "                \"Non\" : 0.9\n",
      "            }\n",
      "        ],\n",
      "        \"frozen\" : false\n",
      "    },\n",
      "    \"name\" : \"malade\",\n",
      "    \"weight\" : 1.0\n",
      "}{\n",
      "    \"class\" : \"State\",\n",
      "    \"distribution\" : {\n",
      "        \"class\" : \"Distribution\",\n",
      "        \"dtype\" : \"str\",\n",
      "        \"name\" : \"DiscreteDistribution\",\n",
      "        \"parameters\" : [\n",
      "            {\n",
      "                \"Oui\" : 0.1,\n",
      "                \"Non\" : 0.9\n",
      "            }\n",
      "        ],\n",
      "        \"frozen\" : false\n",
      "    },\n",
      "    \"name\" : \"sec\",\n",
      "    \"weight\" : 1.0\n",
      "}{\n",
      "    \"class\" : \"State\",\n",
      "    \"distribution\" : {\n",
      "        \"class\" : \"Distribution\",\n",
      "        \"name\" : \"ConditionalProbabilityTable\",\n",
      "        \"table\" : [\n",
      "            [\n",
      "                \"Oui\",\n",
      "                \"Oui\",\n",
      "                \"Oui\",\n",
      "                \"0.95\"\n",
      "            ],\n",
      "            [\n",
      "                \"Oui\",\n",
      "                \"Oui\",\n",
      "                \"Non\",\n",
      "                \"0.05000000000000001\"\n",
      "            ],\n",
      "            [\n",
      "                \"Oui\",\n",
      "                \"Non\",\n",
      "                \"Oui\",\n",
      "                \"0.9\"\n",
      "            ],\n",
      "            [\n",
      "                \"Oui\",\n",
      "                \"Non\",\n",
      "                \"Non\",\n",
      "                \"0.10000000000000002\"\n",
      "            ],\n",
      "            [\n",
      "                \"Non\",\n",
      "                \"Oui\",\n",
      "                \"Oui\",\n",
      "                \"0.85\"\n",
      "            ],\n",
      "            [\n",
      "                \"Non\",\n",
      "                \"Oui\",\n",
      "                \"Non\",\n",
      "                \"0.15\"\n",
      "            ],\n",
      "            [\n",
      "                \"Non\",\n",
      "                \"Non\",\n",
      "                \"Oui\",\n",
      "                \"0.02\"\n",
      "            ],\n",
      "            [\n",
      "                \"Non\",\n",
      "                \"Non\",\n",
      "                \"Non\",\n",
      "                \"0.98\"\n",
      "            ]\n",
      "        ],\n",
      "        \"dtypes\" : [\n",
      "            \"str\",\n",
      "            \"str\",\n",
      "            \"str\",\n",
      "            \"float\"\n",
      "        ],\n",
      "        \"parents\" : [\n",
      "            {\n",
      "                \"class\" : \"Distribution\",\n",
      "                \"dtype\" : \"str\",\n",
      "                \"name\" : \"DiscreteDistribution\",\n",
      "                \"parameters\" : [\n",
      "                    {\n",
      "                        \"Oui\" : 0.1,\n",
      "                        \"Non\" : 0.9\n",
      "                    }\n",
      "                ],\n",
      "                \"frozen\" : false\n",
      "            },\n",
      "            {\n",
      "                \"class\" : \"Distribution\",\n",
      "                \"dtype\" : \"str\",\n",
      "                \"name\" : \"DiscreteDistribution\",\n",
      "                \"parameters\" : [\n",
      "                    {\n",
      "                        \"Oui\" : 0.1,\n",
      "                        \"Non\" : 0.9\n",
      "                    }\n",
      "                ],\n",
      "                \"frozen\" : false\n",
      "            }\n",
      "        ]\n",
      "    },\n",
      "    \"name\" : \"perd_feuilles\",\n",
      "    \"weight\" : 1.0\n",
      "}\n"
     ]
    }
   ],
   "source": [
    "print(G)"
   ]
  },
  {
   "cell_type": "code",
   "execution_count": 15,
   "metadata": {},
   "outputs": [
    {
     "name": "stdout",
     "output_type": "stream",
     "text": [
      "malade [{'Oui': 0.10000000000000034, 'Non': 0.8999999999999996}]\n",
      "sec [{'Oui': 0.10000000000000032, 'Non': 0.8999999999999997}]\n",
      "perd_feuilles [{'Oui': 0.18320000000000042, 'Non': 0.8167999999999995}]\n"
     ]
    }
   ],
   "source": [
    "beliefs = G.predict_proba({})\n",
    "for state, belief in zip(G.states, beliefs):\n",
    "    print(state.name, belief.parameters if type(belief) != str else belief)\n"
   ]
  },
  {
   "cell_type": "code",
   "execution_count": 16,
   "metadata": {},
   "outputs": [
    {
     "name": "stdout",
     "output_type": "stream",
     "text": [
      "malade [{'Oui': 0.4939956331877731, 'Non': 0.5060043668122269}]\n",
      "sec [{'Oui': 0.4694323144104805, 'Non': 0.5305676855895196}]\n",
      "perd_feuilles Oui\n"
     ]
    }
   ],
   "source": [
    "beliefs = G.predict_proba({'perd_feuilles': 'Oui'})\n",
    "for state, belief in zip(G.states, beliefs):\n",
    "    print(state.name, belief.parameters if type(belief) != str else belief)\n"
   ]
  },
  {
   "cell_type": "code",
   "execution_count": 17,
   "metadata": {},
   "outputs": [
    {
     "name": "stdout",
     "output_type": "stream",
     "text": [
      "malade [{'Oui': 0.8333333333333325, 'Non': 0.16666666666666755}]\n",
      "sec Non\n",
      "perd_feuilles Oui\n"
     ]
    }
   ],
   "source": [
    "beliefs = G.predict_proba({ 'perd_feuilles': 'Oui', 'sec': 'Non' })\n",
    "for state, belief in zip(G.states, beliefs):\n",
    "    print(state.name, belief.parameters if type(belief) != str else belief)\n"
   ]
  },
  {
   "attachments": {},
   "cell_type": "markdown",
   "metadata": {},
   "source": [
    "## Licencié ou augmenté ?\n",
    "En utilisant Pomegranate, écrivez un programme implémentant ce réseau."
   ]
  },
  {
   "cell_type": "code",
   "execution_count": 18,
   "metadata": {},
   "outputs": [],
   "source": [
    "G = BayesianNetwork('Bayes&Co')\n",
    "licenciement = DiscreteDistribution({'Oui': .5, 'Non': .5})\n",
    "rh = ConditionalProbabilityTable(\n",
    "    [\n",
    "        ['Oui', 'Janet', .3],\n",
    "        ['Non', 'Janet', .2],\n",
    "        ['Oui', 'Jim', .35],\n",
    "        ['Non', 'Jim', .2],\n",
    "        ['Oui', 'Julia', .35],\n",
    "        ['Non', 'Julia', .6],\n",
    "    ],\n",
    "    [licenciement]\n",
    ")\n",
    "\n",
    "comptable = ConditionalProbabilityTable(\n",
    "    [\n",
    "        ['Oui', 'James', .37],\n",
    "        ['Non', 'James', .42],\n",
    "        ['Oui', 'Jules', .63],\n",
    "        ['Non', 'Jules', .58],\n",
    "    ],\n",
    "    [licenciement]\n",
    ")\n",
    "\n",
    "avertissement = ConditionalProbabilityTable(\n",
    "    [\n",
    "        ['Janet', 'James', 'lettre', .4],\n",
    "        ['Janet', 'James', 'mail', .6],\n",
    "        ['Janet', 'Jules', 'lettre', .7],\n",
    "        ['Janet', 'Jules', 'mail', .3],\n",
    "        ['Jim', 'James', 'lettre', .3],\n",
    "        ['Jim', 'James', 'mail', .7],\n",
    "        ['Jim', 'Jules', 'lettre', .65],\n",
    "        ['Jim', 'Jules', 'mail', .35],\n",
    "        ['Julia', 'James', 'lettre', .25],\n",
    "        ['Julia', 'James', 'mail', .75],\n",
    "        ['Julia', 'Jules', 'lettre', .55],\n",
    "        ['Julia', 'Jules', 'mail', .45],\n",
    "    ],\n",
    "    [rh, comptable]\n",
    ")"
   ]
  },
  {
   "cell_type": "code",
   "execution_count": 19,
   "metadata": {},
   "outputs": [],
   "source": [
    "state_licenciement = State(licenciement, name='licenciement')\n",
    "state_rh = State(rh, name='rh')\n",
    "state_comptable = State(comptable, name='comptable')\n",
    "state_avertissement = State(avertissement, name='avertissement')\n",
    "\n",
    "G.add_states(state_licenciement, state_rh, state_comptable, state_avertissement)\n",
    "G.add_edge(state_licenciement, state_comptable)\n",
    "G.add_edge(state_licenciement, state_rh)\n",
    "G.add_edge(state_rh, state_avertissement)\n",
    "G.add_edge(state_comptable, state_avertissement)\n",
    "G.bake()"
   ]
  },
  {
   "attachments": {},
   "cell_type": "markdown",
   "metadata": {},
   "source": [
    "Jeremy a reçu ce matin une lettre de Janet et Jules;\n",
    "Quelle est la probabilité qu’il s’agisse d’une lettre de licenciement ?"
   ]
  },
  {
   "cell_type": "code",
   "execution_count": 20,
   "metadata": {},
   "outputs": [
    {
     "name": "stdout",
     "output_type": "stream",
     "text": [
      "licenciement [{'Oui': 0.619672131147541, 'Non': 0.380327868852459}]\n",
      "rh Janet\n",
      "comptable Jules\n",
      "avertissement lettre\n"
     ]
    }
   ],
   "source": [
    "beliefs = G.predict_proba({\n",
    "    'avertissement': 'lettre',\n",
    "    'rh': 'Janet',\n",
    "    'comptable': 'Jules'\n",
    "})\n",
    "for state, belief in zip(G.states, beliefs):\n",
    "    print(state.name, belief.parameters if type(belief) != str else belief)"
   ]
  },
  {
   "attachments": {},
   "cell_type": "markdown",
   "metadata": {},
   "source": [
    "Et s'il a reçu une lettre de Jim et James ?"
   ]
  },
  {
   "cell_type": "code",
   "execution_count": 21,
   "metadata": {},
   "outputs": [
    {
     "name": "stdout",
     "output_type": "stream",
     "text": [
      "licenciement [{'Oui': 0.6442401202369373, 'Non': 0.35575987976306267}]\n",
      "rh Jim\n",
      "comptable [{'Jules': 0.7734948280434973, 'James': 0.22650517195650266}]\n",
      "avertissement lettre\n"
     ]
    }
   ],
   "source": [
    "beliefs = G.predict_proba({\n",
    "    'avertissement': 'lettre',\n",
    "    'rh':'Jim',\n",
    "    'comptabilite':'James'\n",
    "})\n",
    "for state, belief in zip(G.states, beliefs):\n",
    "    print(state.name, belief.parameters if type(belief) != str else belief)\n"
   ]
  },
  {
   "attachments": {},
   "cell_type": "markdown",
   "metadata": {},
   "source": [
    "Si tout ce que Jeremy sait, c'est que Julia est en charge d'un dossier le concernant, quels sont les risques d'être licencié ?"
   ]
  },
  {
   "cell_type": "code",
   "execution_count": 22,
   "metadata": {},
   "outputs": [
    {
     "name": "stdout",
     "output_type": "stream",
     "text": [
      "licenciement [{'Oui': 0.3684210526315789, 'Non': 0.6315789473684211}]\n",
      "rh Julia\n",
      "comptable [{'Jules': 0.5984210526315789, 'James': 0.4015789473684212}]\n",
      "avertissement [{'lettre': 0.42952631578947353, 'mail': 0.5704736842105264}]\n"
     ]
    }
   ],
   "source": [
    "beliefs = G.predict_proba({\n",
    "    'rh':'Julia'\n",
    "})\n",
    "for state, belief in zip(G.states, beliefs):\n",
    "    print(state.name, belief.parameters if type(belief) != str else belief)"
   ]
  },
  {
   "attachments": {},
   "cell_type": "markdown",
   "metadata": {},
   "source": [
    "Jeremy a reçu un mail ce matin, mais il ne sait pas qui a traité son dossier. Quelle probabilité a-t-il d'y lire une annonce d'augmentation de salaire ?"
   ]
  },
  {
   "cell_type": "code",
   "execution_count": 23,
   "metadata": {},
   "outputs": [
    {
     "name": "stdout",
     "output_type": "stream",
     "text": [
      "licenciement [{'Oui': 0.4790334104431272, 'Non': 0.5209665895568727}]\n",
      "rh [{'Jim': 0.2626267431628098, 'Janet': 0.20487442960713706, 'Julia': 0.5324988272300533}]\n",
      "comptable [{'Jules': 0.45707308551228315, 'James': 0.5429269144877168}]\n",
      "avertissement mail\n"
     ]
    }
   ],
   "source": [
    "beliefs = G.predict_proba({\n",
    "    'avertissement': 'mail'\n",
    "})\n",
    "for state, belief in zip(G.states, beliefs):\n",
    "    print(state.name, belief.parameters if type(belief) != str else belief)\n"
   ]
  },
  {
   "attachments": {},
   "cell_type": "markdown",
   "metadata": {},
   "source": [
    "## Enquête\n",
    "En utilisant Pomegranate, écrivez un programme implémentant ce réseau."
   ]
  },
  {
   "cell_type": "code",
   "execution_count": 24,
   "metadata": {},
   "outputs": [],
   "source": [
    "G = BayesianNetwork('BN Tech')\n",
    "# 1% de chance que l'employé soit coupable | 99% soit innocent\n",
    "cambriolage = DiscreteDistribution({'Cambrioleur': 0.01, 'Innocent': 0.99})\n",
    "\n",
    "# 45% que le coupable porte un gant et 55% n'en porte pas\n",
    "gant = ConditionalProbabilityTable([\n",
    "    ['Cambrioleur', 'Porte Gant',         .45],\n",
    "    ['Cambrioleur', 'Ne porte pas Gant',  .55],\n",
    "    ['Innocent',    'Porte Gant',         .999],\n",
    "    ['Innocent',    'Ne porte pas Gant',  .001],\n",
    "], [cambriolage])\n",
    "\n",
    "adn = ConditionalProbabilityTable([\n",
    "    ['Cambrioleur', 'Oui', 0.999],\n",
    "    ['Cambrioleur', 'Non', 0.001],\n",
    "    ['Innocent',    'Oui', 0.001],\n",
    "    ['Innocent',    'Non', 0.999],\n",
    "], [cambriolage])\n",
    "\n",
    "empreinte = ConditionalProbabilityTable([\n",
    "    ['Cambrioleur', 'Porte Gant',         'Trouve empreinte',     0.02],\n",
    "    ['Cambrioleur', 'Porte Gant',         'Trouve pas empreinte', 0.98],\n",
    "    ['Cambrioleur', 'Ne porte pas Gant',  'Trouve pas empreinte', 0.001],\n",
    "    ['Cambrioleur', 'Ne porte pas Gant',  'Trouve empreinte',     0.999],\n",
    "    ['Innocent',    'Porte Gant',         'Trouve empreinte',     0.99],\n",
    "    ['Innocent',    'Porte Gant',         'Trouve pas empreinte', 0.01],\n",
    "    ['Innocent',    'Ne porte pas Gant',  'Trouve pas empreinte', 0.05],\n",
    "    ['Innocent',    'Ne porte pas Gant',  'Trouve empreinte',     0.95],\n",
    "], [cambriolage, gant])"
   ]
  },
  {
   "cell_type": "code",
   "execution_count": 25,
   "metadata": {},
   "outputs": [],
   "source": [
    "state_cambriolage = State(cambriolage, name='cambriolage')\n",
    "state_gant = State(gant, name='gant')\n",
    "state_empreinte = State(empreinte, name='empreinte')\n",
    "state_adn = State(adn, name='adn')\n",
    "\n",
    "G.add_states(state_cambriolage, state_gant, state_empreinte, state_adn)\n",
    "G.add_edge(state_cambriolage, state_gant)\n",
    "G.add_edge(state_gant, state_empreinte)\n",
    "G.add_edge(state_cambriolage, state_empreinte)\n",
    "G.add_edge(state_cambriolage, state_adn)\n",
    "G.bake()"
   ]
  },
  {
   "attachments": {},
   "cell_type": "markdown",
   "metadata": {},
   "source": [
    "Probabilité trouver une empreinte"
   ]
  },
  {
   "cell_type": "code",
   "execution_count": 26,
   "metadata": {},
   "outputs": [
    {
     "name": "stdout",
     "output_type": "stream",
     "text": [
      "cambriolage [{'Cambrioleur': 0.4225294988736796, 'Innocent': 0.5774705011263203}]\n",
      "gant [{'Porte Gant': 0.699774630364166, 'Ne porte pas Gant': 0.30022536963583396}]\n",
      "empreinte Trouve pas empreinte\n",
      "adn [{'Oui': 0.4226844398759117, 'Non': 0.5773155601240881}]\n"
     ]
    }
   ],
   "source": [
    "beliefs = G.predict_proba({\n",
    "    'empreinte': 'Trouve pas empreinte'\n",
    "})\n",
    "for state, belief in zip(G.states, beliefs):\n",
    "    print(state.name, belief.parameters if type(belief) != str else belief)"
   ]
  },
  {
   "attachments": {},
   "cell_type": "markdown",
   "metadata": {},
   "source": [
    "Probabilité de ne pas trouver une empreinte & valider le résultat de l'ADN"
   ]
  },
  {
   "cell_type": "code",
   "execution_count": 27,
   "metadata": {},
   "outputs": [
    {
     "name": "stdout",
     "output_type": "stream",
     "text": [
      "cambriolage [{'Cambrioleur': 0.9847328556303572, 'Innocent': 0.01526714436964278}]\n",
      "gant [{'Porte Gant': 0.9857010999343379, 'Ne porte pas Gant': 0.014298900065662125}]\n",
      "empreinte Trouve pas empreinte\n",
      "adn Oui\n"
     ]
    }
   ],
   "source": [
    "beliefs = G.predict_proba({\n",
    "    'empreinte': 'Trouve pas empreinte',\n",
    "    'adn': 'Oui'\n",
    "})\n",
    "for state, belief in zip(G.states, beliefs):\n",
    "    print(state.name, belief.parameters if type(belief) != str else belief)"
   ]
  },
  {
   "attachments": {},
   "cell_type": "markdown",
   "metadata": {},
   "source": [
    "Probabilté de ne pas trouver une empreinte, valider l'ADN & estimer qu'il ne porter pas de gant."
   ]
  },
  {
   "cell_type": "code",
   "execution_count": 28,
   "metadata": {},
   "outputs": [
    {
     "name": "stdout",
     "output_type": "stream",
     "text": [
      "cambriolage [{'Cambrioleur': 0.991071428571426, 'Innocent': 0.008928571428573983}]\n",
      "gant Ne porte pas Gant\n",
      "empreinte Trouve pas empreinte\n",
      "adn Oui\n"
     ]
    }
   ],
   "source": [
    "beliefs = G.predict_proba({\n",
    "    'empreinte': 'Trouve pas empreinte',\n",
    "    'adn': 'Oui',\n",
    "    \"gant\": \"Ne porte pas Gant\"\n",
    "})\n",
    "for state, belief in zip(G.states, beliefs):\n",
    "    print(state.name, belief.parameters if type(belief) != str else belief)"
   ]
  }
 ],
 "metadata": {
  "kernelspec": {
   "display_name": "Python 3",
   "language": "python",
   "name": "python3"
  },
  "language_info": {
   "codemirror_mode": {
    "name": "ipython",
    "version": 3
   },
   "file_extension": ".py",
   "mimetype": "text/x-python",
   "name": "python",
   "nbconvert_exporter": "python",
   "pygments_lexer": "ipython3",
   "version": "3.10.7"
  },
  "orig_nbformat": 4,
  "vscode": {
   "interpreter": {
    "hash": "ff748573f31db6065cf4654f83b73567957bb9b6faad07fc25492f7c2a32e7a1"
   }
  }
 },
 "nbformat": 4,
 "nbformat_minor": 2
}
