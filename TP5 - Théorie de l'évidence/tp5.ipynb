{
 "cells": [
  {
   "cell_type": "code",
   "execution_count": 1,
   "metadata": {},
   "outputs": [],
   "source": [
    "import sys\n",
    "sys.path.insert(1, 'pyds-master')\n"
   ]
  },
  {
   "cell_type": "code",
   "execution_count": 2,
   "metadata": {},
   "outputs": [],
   "source": [
    "from pyds import MassFunction"
   ]
  },
  {
   "attachments": {},
   "cell_type": "markdown",
   "metadata": {},
   "source": [
    "#### 1. Le dernier message ACARS suggère que l’avion pouvait être, peu avant de s’abîmer en mer, dans les secteurs NW, N, E, ou SE avec une masse de probabilité de 50%, dans C ou NE avec une masse de 30%, ou dans l’un des secteurs restants avec une masse de 20%."
   ]
  },
  {
   "cell_type": "code",
   "execution_count": 3,
   "metadata": {},
   "outputs": [
    {
     "name": "stdout",
     "output_type": "stream",
     "text": [
      "{{'N', 'E', 'SE', 'NW'}:0.5; {'NE', 'C'}:0.3; {'W', 'SW', 'S'}:0.2}\n"
     ]
    }
   ],
   "source": [
    "m_last_message = MassFunction([\n",
    "    ({'NW', 'N', 'E', 'SE'}, .5),\n",
    "    ({'C', 'NE'}, .3),\n",
    "    ({'W', 'SW', 'S'}, 0.2)\n",
    "])\n",
    "print(m_last_message)\n"
   ]
  },
  {
   "attachments": {},
   "cell_type": "markdown",
   "metadata": {},
   "source": [
    "#### 2. Le retrouvement de débris sur le littoral africain est une évidence qui pointe au secteur SW (50%) ; cependant, on sait qu’il y a des courants qui vont de l’est à l’ouest dans cette partie de l’océan, donc il se porrait que les débris aient été transporté jusqu’aux côtes africaines des secteurs C ou S (30%) ou E ou SE (20%)."
   ]
  },
  {
   "cell_type": "code",
   "execution_count": 4,
   "metadata": {},
   "outputs": [
    {
     "name": "stdout",
     "output_type": "stream",
     "text": [
      "{{'SW'}:0.5; {'C', 'S'}:0.3; {'E', 'SE'}:0.2}\n"
     ]
    }
   ],
   "source": [
    "m_debris = MassFunction([\n",
    "    ({'SW'}, .5),\n",
    "    ({'C', 'S'}, .3),\n",
    "    ({'E', 'SE'}, 0.2)\n",
    "])\n",
    "print(m_debris)\n"
   ]
  },
  {
   "attachments": {},
   "cell_type": "markdown",
   "metadata": {},
   "source": [
    "#### 3. Infin, l’observation douteuse de l’appareil volant à basse altitude aux Maldives est estimée apporter une masse de 10% à une localisation de l’épave dans le secteur W et une masse de 90% partout (y compris le secteur W)."
   ]
  },
  {
   "cell_type": "code",
   "execution_count": 5,
   "metadata": {},
   "outputs": [
    {
     "name": "stdout",
     "output_type": "stream",
     "text": [
      "{{'C', 'SE', 'NE', 'E', 'S', 'N', 'NW', 'SW'}:0.9; {'W'}:0.1}\n"
     ]
    }
   ],
   "source": [
    "m_obs = MassFunction([\n",
    "    ({'W'}, .1),\n",
    "    ({'NW', 'N', 'NE', 'E', 'SE', 'S', 'SW', 'C'}, .9)\n",
    "])\n",
    "print(m_obs)"
   ]
  },
  {
   "attachments": {},
   "cell_type": "markdown",
   "metadata": {},
   "source": [
    "#### 4. Dans quel secteur faudrait-il concentrer les recherches ? Suggestion : il faudra d’abord combiner les différentes sources d’évidence, puis calculer les probabilités pignistiques."
   ]
  },
  {
   "cell_type": "code",
   "execution_count": 6,
   "metadata": {},
   "outputs": [
    {
     "name": "stdout",
     "output_type": "stream",
     "text": [
      "{{'SW'}:0.2857142857142857; {'E', 'SE'}:0.2857142857142857; {'C'}:0.2571428571428571; {'S'}:0.17142857142857143}\n"
     ]
    }
   ],
   "source": [
    "print(m_debris & m_last_message & m_obs)"
   ]
  },
  {
   "attachments": {},
   "cell_type": "markdown",
   "metadata": {},
   "source": [
    "Selon les résultats obtenue, nous remarquons que les secteurs SW, E et SE on une plus grande probabilités de trouver l'avion, il est nécessaire concentrer ces recherches sur ces secteurs."
   ]
  },
  {
   "attachments": {},
   "cell_type": "markdown",
   "metadata": {},
   "source": [
    "#### 5. En quelle mesure ces conclusions sont sensibles aux hypothèses de distribution des trois masses ? Est-ce que des petites erreurs d’estimation de ces masses (on va dire comprises dans le 5% en plus ou en moins) pourraient faire changer drastiquement le résultat ?"
   ]
  },
  {
   "cell_type": "code",
   "execution_count": 7,
   "metadata": {},
   "outputs": [
    {
     "name": "stdout",
     "output_type": "stream",
     "text": [
      "{{'SW'}:0.32116788321167883; {'C'}:0.30656934306569344; {'E', 'SE'}:0.19708029197080296; {'S'}:0.17518248175182483}\n"
     ]
    }
   ],
   "source": [
    "m_last_message = MassFunction([\n",
    "    ({'NW', 'N', 'E', 'SE'}, .45),\n",
    "    ({'C', 'NE'}, .35),\n",
    "    ({'W', 'SW', 'S'}, 0.2)\n",
    "])\n",
    "m_debris = MassFunction([\n",
    "    ({'SW'}, .55),\n",
    "    ({'C', 'S'}, .3),\n",
    "    ({'E', 'SE'}, 0.15)\n",
    "])\n",
    "m_obs = MassFunction([\n",
    "    ({'W'}, .15),\n",
    "    ({'NW', 'N', 'NE', 'E', 'SE', 'S', 'SW', 'C'}, .85)\n",
    "])\n",
    "print(m_debris & m_last_message & m_obs)\n"
   ]
  },
  {
   "attachments": {},
   "cell_type": "markdown",
   "metadata": {},
   "source": [
    "Nous observons de légére changements cependant ces changements étant faibles montre que ces données sont fialbes."
   ]
  }
 ],
 "metadata": {
  "kernelspec": {
   "display_name": "Python 3",
   "language": "python",
   "name": "python3"
  },
  "language_info": {
   "codemirror_mode": {
    "name": "ipython",
    "version": 3
   },
   "file_extension": ".py",
   "mimetype": "text/x-python",
   "name": "python",
   "nbconvert_exporter": "python",
   "pygments_lexer": "ipython3",
   "version": "3.10.7"
  },
  "orig_nbformat": 4,
  "vscode": {
   "interpreter": {
    "hash": "ff748573f31db6065cf4654f83b73567957bb9b6faad07fc25492f7c2a32e7a1"
   }
  }
 },
 "nbformat": 4,
 "nbformat_minor": 2
}
