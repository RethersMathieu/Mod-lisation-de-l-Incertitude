{
 "cells": [
  {
   "attachments": {},
   "cell_type": "markdown",
   "metadata": {},
   "source": [
    "# TP7 : Théorie des possibilités"
   ]
  },
  {
   "cell_type": "code",
   "execution_count": 139,
   "metadata": {},
   "outputs": [],
   "source": [
    "class Possiblity(list[tuple[str, float]]):\n",
    "    def __init__(self, values: dict[str, float]):\n",
    "        super().__init__(item for item in sorted(values.items(), key=lambda x: x[1], reverse=True))\n",
    "    \n",
    "    def get_distribution(self) -> tuple[str, float]:\n",
    "        result = []\n",
    "        for i, (key, value) in enumerate(self):\n",
    "            if i == 0:\n",
    "                result.append((key, 1.))\n",
    "            elif i > 0 and self[i - 1] == value:\n",
    "                result.append(result[i - 1])\n",
    "            else:\n",
    "                result.append((key, sum(map(lambda x: x[1], self[i:]))))\n",
    "        return tuple(result)\n",
    "    \n",
    "    def get_mesure_poss(self):\n",
    "        distribution = self.get_distribution()\n",
    "        value_max = max(distribution, key=lambda x: x[1])[1]\n",
    "        return [(key, value) for key, value in distribution if value == value_max]\n",
    "    \n",
    "    def get_mesure_necessite(self):\n",
    "        distribution = list(map(lambda x: (x[0], 1 - x[1]), self.get_distribution()))\n",
    "        value_min = min(distribution, key=lambda x: x[1])[1]\n",
    "        return [(key, value) for key, value in distribution if value == value_min]\n",
    "    \n",
    "    def total(self):\n",
    "        return sum(map(lambda x: x[1], self))\n",
    "    \n",
    "    def __str__(self) -> str:\n",
    "        l = '\\n'.join([ f'- {key}: {value};' for key, value in self ])\n",
    "        return f'Possiblity:\\n{l}'\n"
   ]
  },
  {
   "attachments": {},
   "cell_type": "markdown",
   "metadata": {},
   "source": [
    "#### 1. Utiliser les masses définies dans l’énoncé du TD N◦5 pour définir une base de croyances possibiliste, en suivant le principe de la transformation probabilité-possibilité vue en cours pour transformer les masses (qui sont des probabilités) en possibilités. À noter que la masse d’un ensemble de secteurs se transforme ainsi en la possibilité d’une disjonction de propositions ; c’est à dire que, par exemple, {E,SE} avec une masse pi devient, dans la base possibiliste, (E ∨SE,πi)."
   ]
  },
  {
   "cell_type": "code",
   "execution_count": 140,
   "metadata": {},
   "outputs": [
    {
     "name": "stdout",
     "output_type": "stream",
     "text": [
      "Possiblity:\n",
      "- E: 0.2857142857142857;\n",
      "- SE: 0.2857142857142857;\n",
      "- SW: 0.2857142857142857;\n",
      "- C: 0.2571428571428571;\n",
      "- S: 0.17142857142857143;\n",
      "- NW: 0;\n",
      "- N: 0;\n",
      "- NE: 0;\n",
      "- W: 0;\n"
     ]
    }
   ],
   "source": [
    "poss = Possiblity({\n",
    "    'NW': 0,\n",
    "    'N': 0,\n",
    "    'NE': 0,\n",
    "    'W': 0,\n",
    "    'S': 0.17142857142857143,\n",
    "    'C': 0.2571428571428571,\n",
    "    'E': 0.2857142857142857,\n",
    "    'SE': 0.2857142857142857,\n",
    "    'SW': 0.2857142857142857,\n",
    "})\n",
    "print(poss)"
   ]
  },
  {
   "attachments": {},
   "cell_type": "markdown",
   "metadata": {},
   "source": [
    "#### 2. Utiliser ensuite la sémantique de la base possibiliste Σ ainsi obtenue pour calculer la distribution de possibilité πΣcorrespondante."
   ]
  },
  {
   "cell_type": "code",
   "execution_count": 141,
   "metadata": {},
   "outputs": [
    {
     "data": {
      "text/plain": [
       "(('E', 1.0),\n",
       " ('SE', 1.0),\n",
       " ('SW', 0.7142857142857142),\n",
       " ('C', 0.42857142857142855),\n",
       " ('S', 0.17142857142857143),\n",
       " ('NW', 0),\n",
       " ('N', 0),\n",
       " ('NE', 0),\n",
       " ('W', 0))"
      ]
     },
     "execution_count": 141,
     "metadata": {},
     "output_type": "execute_result"
    }
   ],
   "source": [
    "poss.get_distribution()"
   ]
  },
  {
   "attachments": {},
   "cell_type": "markdown",
   "metadata": {},
   "source": [
    "#### 3. Calculez les mesures de possibilité et nécessité de chaque secteur."
   ]
  },
  {
   "cell_type": "code",
   "execution_count": 142,
   "metadata": {},
   "outputs": [
    {
     "data": {
      "text/plain": [
       "[('E', 1.0), ('SE', 1.0)]"
      ]
     },
     "execution_count": 142,
     "metadata": {},
     "output_type": "execute_result"
    }
   ],
   "source": [
    "poss.get_mesure_poss()"
   ]
  },
  {
   "cell_type": "code",
   "execution_count": 143,
   "metadata": {},
   "outputs": [
    {
     "data": {
      "text/plain": [
       "[('E', 0.0), ('SE', 0.0)]"
      ]
     },
     "execution_count": 143,
     "metadata": {},
     "output_type": "execute_result"
    }
   ],
   "source": [
    "poss.get_mesure_necessite()"
   ]
  },
  {
   "attachments": {},
   "cell_type": "markdown",
   "metadata": {},
   "source": [
    "#### 4. Dans quel(s) secteur(s) ces mesures suggèrent-elles de concentrer les recherches ?\n",
    "Selon la mesure de possibilité et de nécessité ci-dessus, les secteurs a concentrer ces recherches sont \"E\" & \"SE\"."
   ]
  },
  {
   "attachments": {},
   "cell_type": "markdown",
   "metadata": {},
   "source": [
    "#### 5. Comparez cette approche avec celle basée sur la théorie de l’évidence : est-ce que les résultats changent ? Quel des deux approche passerait mieux à l’échelle, si au lieu de neuf secteurs on en avait 100, 10mille ou 1 million ? Quelle est leur sensibilité aux hypothèses sur la distribution (de masse/possibilité) ?\n"
   ]
  }
 ],
 "metadata": {
  "kernelspec": {
   "display_name": "Python 3",
   "language": "python",
   "name": "python3"
  },
  "language_info": {
   "codemirror_mode": {
    "name": "ipython",
    "version": 3
   },
   "file_extension": ".py",
   "mimetype": "text/x-python",
   "name": "python",
   "nbconvert_exporter": "python",
   "pygments_lexer": "ipython3",
   "version": "3.10.8"
  },
  "orig_nbformat": 4,
  "vscode": {
   "interpreter": {
    "hash": "ff748573f31db6065cf4654f83b73567957bb9b6faad07fc25492f7c2a32e7a1"
   }
  }
 },
 "nbformat": 4,
 "nbformat_minor": 2
}
